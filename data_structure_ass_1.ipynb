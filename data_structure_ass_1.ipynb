{
 "cells": [
  {
   "cell_type": "code",
   "execution_count": 1,
   "id": "df463243-6724-43fa-a1c2-084c0f5d7965",
   "metadata": {},
   "outputs": [],
   "source": [
    "#read this codes"
   ]
  },
  {
   "cell_type": "code",
   "execution_count": 2,
   "id": "8ae8918c-82cc-481d-8145-469cf35e8a34",
   "metadata": {},
   "outputs": [
    {
     "name": "stdin",
     "output_type": "stream",
     "text": [
      "entre a string bhushan\n"
     ]
    },
    {
     "name": "stdout",
     "output_type": "stream",
     "text": [
      "nahsuhb\n"
     ]
    }
   ],
   "source": [
    "#1.Write a code to reverse a string.\n",
    "str1=input(\"entre a string\")[::-1]\n",
    "print(str1)"
   ]
  },
  {
   "cell_type": "code",
   "execution_count": 3,
   "id": "1e48aaf8-256c-4306-86ce-c97ba0df959a",
   "metadata": {},
   "outputs": [
    {
     "name": "stdin",
     "output_type": "stream",
     "text": [
      "Enter the string : bhushan vijay chaudhari\n"
     ]
    },
    {
     "name": "stdout",
     "output_type": "stream",
     "text": [
      "Total vowels are :8\n"
     ]
    }
   ],
   "source": [
    "#2. Write a code to count the number of vowels in a string.\n",
    "String = input('Enter the string :')\n",
    "count = 0\n",
    "String = String.lower()\n",
    "for i in String:\n",
    "    if i == 'a' or i == 'e' or i == 'i' or i == 'o' or i == 'u':\n",
    "        count+=1\n",
    "if count == 0:\n",
    "    print('No vowels found')\n",
    "else:\n",
    "    print('Total vowels are :' + str(count))\n"
   ]
  },
  {
   "cell_type": "code",
   "execution_count": 4,
   "id": "74e81afc-71e8-4fcf-9d11-702a9ee6385e",
   "metadata": {},
   "outputs": [
    {
     "name": "stdout",
     "output_type": "stream",
     "text": [
      "string is not palindrome\n"
     ]
    }
   ],
   "source": [
    "#3.Write a code to check if a given string is a palindrome or not.\n",
    "str1=(\"layak\")\n",
    "s=()\n",
    "s==str1\n",
    "if s == str1[::-1]:\n",
    "    print(\"string is palindrome\")\n",
    "else:\n",
    "    print(\"string is not palindrome\")\n"
   ]
  },
  {
   "cell_type": "code",
   "execution_count": 5,
   "id": "52e13833-9521-42dd-ae79-19004d658a81",
   "metadata": {},
   "outputs": [
    {
     "name": "stdout",
     "output_type": "stream",
     "text": [
      "The strings are anagrams;\n"
     ]
    }
   ],
   "source": [
    "#4. Write a code to check if two given strings are anagrams of each other\n",
    "s1=\"silent\"\n",
    "s2=\"listen\"\n",
    "if (sorted(s1)== sorted(s2)):\n",
    "\t\tprint(\"The strings are anagrams;\")\n",
    "else:\n",
    "    print(\"The strings aren't anagrams;\")"
   ]
  },
  {
   "cell_type": "code",
   "execution_count": 6,
   "id": "9e4389ce-9c61-478a-a0eb-9441b56fe057",
   "metadata": {},
   "outputs": [
    {
     "name": "stdout",
     "output_type": "stream",
     "text": [
      "substrings are not found!\n"
     ]
    }
   ],
   "source": [
    "#5.Write a code to find all occurrences of a given substring within another string\n",
    "num = \"Hello welcome to India\"\n",
    "substr = [\"l\", \"z\", \"e\"]\n",
    "try:\n",
    "   for sub in substr:\n",
    "      num.index(sub)\n",
    "   print(\"All substrings found!\")\n",
    "except ValueError:\n",
    "   print(\"substrings are not found!\")"
   ]
  },
  {
   "cell_type": "code",
   "execution_count": 7,
   "id": "0dc09757-7a0e-45b9-9d6b-d13e79e36f87",
   "metadata": {},
   "outputs": [
    {
     "name": "stdout",
     "output_type": "stream",
     "text": [
      "a2b2c2d2e2f2g3h3i2j2k2t1r1e2r1\n"
     ]
    }
   ],
   "source": [
    "#6.Write a code to perform basic string compression using the counts of repeated characters\n",
    "def compress_string(text):\n",
    "    compressed=\"\"\n",
    "    count=1\n",
    "\n",
    "    for i in range(len(text)):\n",
    "        if i < len(text) -1 and text[i] == text[i + 1]:\n",
    "            count += 1\n",
    "        else:\n",
    "            compressed += text[i] + str(count)\n",
    "            count = 1\n",
    "    return compressed\n",
    "input_string = \"aabbccddeeffggghhhiijjkktreer\"\n",
    "compressed_string = compress_string(input_string)\n",
    "print(compressed_string)"
   ]
  },
  {
   "cell_type": "code",
   "execution_count": 8,
   "id": "bd31dc6d-df66-4386-83b6-755172574693",
   "metadata": {},
   "outputs": [
    {
     "name": "stdout",
     "output_type": "stream",
     "text": [
      "The String  bhushan  has duplicate characters\n"
     ]
    }
   ],
   "source": [
    "#7.Write a code to determine if a string has all unique characters\n",
    "def uniqueCharacters(str):\n",
    "\tfor i in range(len(str)):\n",
    "\t\tfor j in range(i + 1,len(str)):\n",
    "\t\t\tif(str[i] == str[j]):\n",
    "\t\t\t\treturn False;\n",
    "\treturn True;\n",
    "str = \"bhushan\";\n",
    "if(uniqueCharacters(str)):\n",
    "\tprint(\"The String \", str,\" has all unique characters\");\n",
    "else:\n",
    "\tprint(\"The String \", str, \" has duplicate characters\");"
   ]
  },
  {
   "cell_type": "code",
   "execution_count": 9,
   "id": "e2b0d9e7-0405-4e4c-9356-2eefd521605a",
   "metadata": {},
   "outputs": [
    {
     "name": "stdout",
     "output_type": "stream",
     "text": [
      "HELLO WORLD\n"
     ]
    }
   ],
   "source": [
    "#8.Write a code to convert a given string to uppercase or lowercase.\n",
    "str1=(\"hello world\")\n",
    "uppercase_str1=str1.upper()\n",
    "print(uppercase_str1)"
   ]
  },
  {
   "cell_type": "code",
   "execution_count": 10,
   "id": "042b7889-4cb0-4e3d-8f55-cb23fe29a5f4",
   "metadata": {},
   "outputs": [
    {
     "name": "stdout",
     "output_type": "stream",
     "text": [
      "11\n"
     ]
    }
   ],
   "source": [
    "#9.Write a code to count the number of words in a string\n",
    "str1=(\"hello world\")\n",
    "lentgh_str1=len(str1)\n",
    "print(lentgh_str1)"
   ]
  },
  {
   "cell_type": "code",
   "execution_count": 11,
   "id": "97419a77-9604-45b3-921e-16bb98b3ef7b",
   "metadata": {},
   "outputs": [
    {
     "name": "stdout",
     "output_type": "stream",
     "text": [
      "bhushanchaudhari\n"
     ]
    }
   ],
   "source": [
    "#10.Write a code to concatenate two strings without using the + operator.\n",
    "str1=\"bhushan\"\n",
    "str2=\"chaudhari\"\n",
    "strs=(str1+str2)\n",
    "print(strs)"
   ]
  },
  {
   "cell_type": "code",
   "execution_count": 12,
   "id": "87686c5c-f5bf-49a5-a4e7-05079c23df39",
   "metadata": {},
   "outputs": [
    {
     "name": "stdout",
     "output_type": "stream",
     "text": [
      "[1, 3, 4, 5, 6, 7, 8, 9, 10]\n"
     ]
    }
   ],
   "source": [
    "#11. Write a code to remove all occurrences of a specific element from a list\n",
    "str1=[1,2,3,4,5,6,7,8,9,10]\n",
    "str1.remove(2)\n",
    "print(str1)"
   ]
  },
  {
   "cell_type": "code",
   "execution_count": 13,
   "id": "813145a2-5989-4ff1-a75d-a85735da164c",
   "metadata": {},
   "outputs": [
    {
     "name": "stdout",
     "output_type": "stream",
     "text": [
      "The second largest element of the list is: 97\n"
     ]
    }
   ],
   "source": [
    "#12.Implement a code to find the second largest number in a given list of integers\n",
    "str1=[99,20,36,97,50,95,70,11,90]\n",
    "str1.sort()\n",
    "print(\"The second largest element of the list is:\",str1[-2])"
   ]
  },
  {
   "cell_type": "code",
   "execution_count": 14,
   "id": "20337e70-9850-4131-9087-d823a2f9f62b",
   "metadata": {},
   "outputs": [
    {
     "name": "stdout",
     "output_type": "stream",
     "text": [
      "{1: 3, 2: 3, 3: 3, 4: 2, 5: 2, 6: 2, 7: 1, 8: 1, 9: 1}\n"
     ]
    }
   ],
   "source": [
    "#13.Create a code to count the occurrences of each element in a list and return a dictionary with elements as  keys and their counts as values\n",
    "list1=[1,2,3,1,2,3,1,2,3,4,5,6,4,5,6,7,8,9]\n",
    "count={}\n",
    "for element in list1:\n",
    "    if element in count:\n",
    "        count[element] += 1\n",
    "    else:\n",
    "        count[element] = 1\n",
    "return_count=count\n",
    "print(return_count)"
   ]
  },
  {
   "cell_type": "code",
   "execution_count": 15,
   "id": "58ba493a-88d4-4be6-b4d2-e9a66da4d324",
   "metadata": {},
   "outputs": [
    {
     "name": "stdout",
     "output_type": "stream",
     "text": [
      "[0, 9, 8, 7, 6, 5, 4, 3, 2, 1]\n"
     ]
    }
   ],
   "source": [
    "#14.Write a code to reverse a list in-place without using any built-in reverse functions\n",
    "arr=[1,2,3,4,5,6,7,8,9,0,][::-1]\n",
    "print(arr)"
   ]
  },
  {
   "cell_type": "code",
   "execution_count": 16,
   "id": "2f06ca13-d0b6-4870-a89d-2afa9a67b69c",
   "metadata": {},
   "outputs": [
    {
     "name": "stdout",
     "output_type": "stream",
     "text": [
      "{1, 2, 3, 4, 5, 6}\n"
     ]
    }
   ],
   "source": [
    "#15.Implement a code to find and remove duplicates from a list while preserving the original order of elements\n",
    "list1=[1,2,3,4,5,3,4,5,6]\n",
    "new_list=set(list1)\n",
    "print(new_list)\n"
   ]
  },
  {
   "cell_type": "code",
   "execution_count": 17,
   "id": "30f64319-3735-4542-bfb9-60e28ad1bba1",
   "metadata": {},
   "outputs": [
    {
     "name": "stdout",
     "output_type": "stream",
     "text": [
      "[3, 4, 7, 7, 8, 9]\n"
     ]
    }
   ],
   "source": [
    "#16.Create a code to check if a given list is sorted (either in ascending or descending order) or not\n",
    "lst=[9,7,4,7,3,8]\n",
    "sorting_list=sorted(lst)\n",
    "print(sorting_list)"
   ]
  },
  {
   "cell_type": "code",
   "execution_count": 18,
   "id": "0e4e2af7-6ccd-4b1a-9072-502dbdb94a75",
   "metadata": {},
   "outputs": [
    {
     "name": "stdout",
     "output_type": "stream",
     "text": [
      "[1, 1, 2, 2, 2, 3, 3, 3, 4, 4, 4, 5, 5, 6, 6, 6, 6, 7, 7, 8]\n"
     ]
    }
   ],
   "source": [
    "#17.Write a code to merge two sorted lists into a single sorted list\n",
    "lst1=[1,4,2,3,5,6,7,6,4,5]\n",
    "lst2=[3,8,7,3,2,6,6,4,2,1]\n",
    "new_list=sorted(lst1+lst2)\n",
    "print(new_list)"
   ]
  },
  {
   "cell_type": "code",
   "execution_count": 19,
   "id": "d2357910-6f7b-4651-9801-3ef63ae63363",
   "metadata": {},
   "outputs": [
    {
     "name": "stdout",
     "output_type": "stream",
     "text": [
      "{96, 12, 48, 24, 60}\n"
     ]
    }
   ],
   "source": [
    "#18.Implement a code to find the intersection of two given lists.\n",
    "lst1={12,24,36,48,60,72,84,96}\n",
    "lst2={96,80,12,48,50,40,24,60}\n",
    "lst3=lst1 & lst2\n",
    "print(lst3)"
   ]
  },
  {
   "cell_type": "code",
   "execution_count": 20,
   "id": "5a4012a4-61b6-4beb-b874-4f89b4367842",
   "metadata": {},
   "outputs": [
    {
     "name": "stdout",
     "output_type": "stream",
     "text": [
      "{1, 2, 3, 4, 5, 6, 7, 8}\n"
     ]
    }
   ],
   "source": [
    "#19.Create a code to find the union of two lists without duplicates\n",
    "lst1={1,2,3,4,5}\n",
    "lst2={2,4,6,7,8}\n",
    "lst3=lst1.union(lst2)\n",
    "print(lst3)"
   ]
  },
  {
   "cell_type": "code",
   "execution_count": 21,
   "id": "d20709d0-b45e-46dc-ae1e-56bcc15c65ea",
   "metadata": {},
   "outputs": [
    {
     "name": "stdout",
     "output_type": "stream",
     "text": [
      "Original list: [1, 2, 3, 4, 5, 6, 7, 8, 9]\n",
      "Shuffled list: [5, 4, 3, 7, 2, 9, 6, 8, 1]\n"
     ]
    }
   ],
   "source": [
    "#20.Write a code to shuffle a given list randomly without using any built-in shuffle functions\n",
    "import random\n",
    "def custom_shuffle(lst):\n",
    "    n =len(lst)\n",
    "    for i in range(n-1, 0, -1):\n",
    "        j = random.randint(0, i)\n",
    "        lst[i], lst[j] = lst[j], lst[i]\n",
    "    return lst\n",
    "my_list = [1, 2, 3, 4, 5, 6, 7, 8, 9]\n",
    "shuffled_list = custom_shuffle(my_list.copy())\n",
    "print(\"Original list:\", my_list)\n",
    "print(\"Shuffled list:\", shuffled_list)"
   ]
  },
  {
   "cell_type": "code",
   "execution_count": 22,
   "id": "6ba4a345-411d-41c5-9a44-15311395a2a6",
   "metadata": {},
   "outputs": [
    {
     "name": "stdout",
     "output_type": "stream",
     "text": [
      "common element (4,)\n",
      "common element (4, 5)\n",
      "common element (4, 5, 6)\n"
     ]
    }
   ],
   "source": [
    "#21.Write a code that takes two tuples as input and returns a new tuple containing elements that are common to both input tuples\n",
    "tuple1=(1,2,3,4,5,6)\n",
    "tuple2=(9,8,7,6,5,4)\n",
    "t3=set()\n",
    "for i in tuple1:\n",
    "    for j in tuple2:\n",
    "        if i==j:\n",
    "            t3.add(i)\n",
    "            t4=tuple(t3)\n",
    "            print(\"common element\",t4)"
   ]
  },
  {
   "cell_type": "code",
   "execution_count": 23,
   "id": "7a04fb9f-18f4-452a-81e6-d6108ce1d5e1",
   "metadata": {},
   "outputs": [
    {
     "name": "stdout",
     "output_type": "stream",
     "text": [
      "{3, 4, 5, 6, 7}\n"
     ]
    }
   ],
   "source": [
    "#22.Create a code that prompts the user to enter two sets of integers separated by commas. Then, print the intersection of these two sets\n",
    "s1={1,2,3,4,5,6,7}\n",
    "s2={9,8,7,6,5,4,3}\n",
    "s3=s1 & s2\n",
    "print(s3)"
   ]
  },
  {
   "cell_type": "code",
   "execution_count": 24,
   "id": "68e8dcc6-3e35-4adc-9cbc-570558efa902",
   "metadata": {},
   "outputs": [
    {
     "name": "stdout",
     "output_type": "stream",
     "text": [
      "{1, 2, 3, 4, 5, 6, 7, 8, 9}\n"
     ]
    }
   ],
   "source": [
    "#23.Write a code to concatenate two tuples. The function should take two tuples as input and return a new tuple containing elements from both input tuples.\n",
    "s1={1,2,3,4,5,6}\n",
    "s2={9,8,7,6,5,4}\n",
    "s3= s1|s2\n",
    "print(s3)"
   ]
  },
  {
   "cell_type": "code",
   "execution_count": 25,
   "id": "aaff23f9-75e1-4797-9f83-62698c40e871",
   "metadata": {},
   "outputs": [
    {
     "name": "stdout",
     "output_type": "stream",
     "text": [
      "Element in set1 but not in set2:\n",
      "{1, 2, 3, 4, 5}\n"
     ]
    }
   ],
   "source": [
    "#24.Develop a code that prompts the user to input two sets of strings. Then, print the elements that are present in the first set but not in the second set.\n",
    "s1={1,2,3,4,5}\n",
    "s2={6,7,8,9,0}\n",
    "print(\"Element in set1 but not in set2:\")\n",
    "print(s1-s2)"
   ]
  },
  {
   "cell_type": "code",
   "execution_count": 26,
   "id": "ae0c4237-d341-4c56-b101-ac3bc2db47ac",
   "metadata": {},
   "outputs": [
    {
     "name": "stdout",
     "output_type": "stream",
     "text": [
      "(4, 5, 6)\n"
     ]
    }
   ],
   "source": [
    "#25.Create a code that takes a tuple and two integers as input. The function should return a new tuple containing elements from the original tuple within the specified range of indices\n",
    "def slice_tuple(tup, start, end):\n",
    "    return tup[start:end]\n",
    "\n",
    "\n",
    "my_tuple = (1, 2, 3, 4, 5, 6, 7, 8, 9)\n",
    "print(slice_tuple(my_tuple, 3, 6))"
   ]
  },
  {
   "cell_type": "code",
   "execution_count": 27,
   "id": "6822504d-8369-4d4b-8868-ca04c8ac2b59",
   "metadata": {},
   "outputs": [
    {
     "name": "stdin",
     "output_type": "stream",
     "text": [
      "entre string1; bhushan\n",
      "entre string2; chaudhari\n"
     ]
    },
    {
     "name": "stdout",
     "output_type": "stream",
     "text": [
      "union  {'bhushan', 'chaudhari'}\n"
     ]
    }
   ],
   "source": [
    "#26.Write a code that prompts the user to input two sets of characters. Then, print the union of these two sets.\n",
    "s1=input(\"entre string1;\")\n",
    "s2=input(\"entre string2;\")\n",
    "s1=set(s1.split())\n",
    "s2=set(s2.split())\n",
    "s3=s1.union(s2)\n",
    "print(\"union \",s3)"
   ]
  },
  {
   "cell_type": "code",
   "execution_count": 28,
   "id": "86021dc2-6ac6-4337-9322-1aab47328cc2",
   "metadata": {},
   "outputs": [
    {
     "name": "stdout",
     "output_type": "stream",
     "text": [
      "Maximum: 4, Minimum: 1\n"
     ]
    }
   ],
   "source": [
    "#27. Develop a code that takes a tuple of integers as input. The function should return the maximum and minimum values from the tuple using tuple unpacking.\n",
    "def find_max_min(tup):\n",
    "    if len(tup) < 1:\n",
    "        return None\n",
    "    max_val, *rest, min_val = tup\n",
    "    return max_val if max_val > rest[0] else max(rest), min_val if min_val < rest[0] else min(rest)\n",
    "\n",
    "\n",
    "numbers = (4, 2, 9, 6, 5, 1)\n",
    "max_value, min_value = find_max_min(numbers)\n",
    "print(f\"Maximum: {max_value}, Minimum: {min_value}\")\n"
   ]
  },
  {
   "cell_type": "code",
   "execution_count": 29,
   "id": "16eb0439-db26-4547-8b1c-43454025ad23",
   "metadata": {},
   "outputs": [
    {
     "name": "stdout",
     "output_type": "stream",
     "text": [
      "union {1, 2, 3, 4, 5, 6, 7, 8, 9}\n",
      "intersection {4, 5, 6}\n",
      "diffrence {1, 2, 3}\n"
     ]
    }
   ],
   "source": [
    "#28.Create a code that defines two sets of integers. Then, print the union, intersection, and difference of these two sets.\n",
    "s1={1,2,3,4,5,6}\n",
    "s2={9,8,7,6,5,4}\n",
    "s3=s1|s2\n",
    "s4=s1&s2\n",
    "s5=s1-s2\n",
    "print(\"union\",s3)\n",
    "print(\"intersection\",s4)\n",
    "print(\"diffrence\",s5)"
   ]
  },
  {
   "cell_type": "code",
   "execution_count": 30,
   "id": "b3377bee-5562-4b1f-80de-f998c05f26e8",
   "metadata": {},
   "outputs": [
    {
     "name": "stdout",
     "output_type": "stream",
     "text": [
      "The element 2 occurs 4 times in the tuple.\n"
     ]
    }
   ],
   "source": [
    "#29.Write a code that takes a tuple and an element as input. The function should return the count of occurrences of the given element in the tuple\n",
    "def count_occurrences(tup, elem):\n",
    "    return tup.count(elem)\n",
    "\n",
    "\n",
    "my_tuple = (1, 2, 2, 3, 2, 4, 2, 5)\n",
    "element = 2\n",
    "occurrences = count_occurrences(my_tuple, element)\n",
    "print(f\"The element {element} occurs {occurrences} times in the tuple.\")"
   ]
  },
  {
   "cell_type": "code",
   "execution_count": 32,
   "id": "5b9dd840-2239-43e8-b619-4f5bb5386b58",
   "metadata": {},
   "outputs": [
    {
     "name": "stdin",
     "output_type": "stream",
     "text": [
      "Enter the first set of strings (separated by space):  apple banana orange\n",
      "Enter the second set of strings (separated by space):  banana orange grape\n"
     ]
    },
    {
     "name": "stdout",
     "output_type": "stream",
     "text": [
      "Symmetric difference:\n",
      "apple\n",
      "grape\n"
     ]
    }
   ],
   "source": [
    "#30.Develop a code that prompts the user to input two sets of strings. Then, print the symmetric difference of these two sets.\n",
    "set1 = input(\"Enter the first set of strings (separated by space): \").split()\n",
    "set2 = input(\"Enter the second set of strings (separated by space): \").split()\n",
    "\n",
    "set1 = set(set1)\n",
    "set2 = set(set2)\n",
    "\n",
    "symmetric_diff = set1.symmetric_difference(set2)\n",
    "print(\"Symmetric difference:\")\n",
    "for item in symmetric_diff:\n",
    "    print(item)\n",
    "\n"
   ]
  },
  {
   "cell_type": "code",
   "execution_count": 33,
   "id": "2d112974-882b-43e7-b620-a9e0038749bb",
   "metadata": {},
   "outputs": [
    {
     "name": "stdout",
     "output_type": "stream",
     "text": [
      "{1: 1}\n",
      "{1: 2, 3: 1}\n",
      "{1: 2, 3: 1, 2: 1}\n",
      "{1: 2, 3: 1, 2: 1, 6: 1}\n",
      "{1: 2, 3: 1, 2: 1, 6: 1, 5: 1}\n",
      "{1: 4, 3: 4, 2: 1, 6: 1, 5: 1, 4: 1}\n"
     ]
    }
   ],
   "source": [
    "#31.Write a code that takes a list of words as input and returns a dictionary where the keys are unique words and the values are the frequencies of those words in the input list.\n",
    "def CountFreq(list1):\n",
    "    freq = {}\n",
    "    for item in list1:\n",
    "        if (item in freq):\n",
    "            freq[item] += 1\n",
    "        else:\n",
    "            freq[item] = 1\n",
    "            print(freq)\n",
    "list1 =[1, 1, 3, 2, 6, 5, 3, 1, 3, 3, 1, 4, 6, 4, 4, 2, 2, 2, 2]\n",
    "CountFreq(list1)"
   ]
  },
  {
   "cell_type": "code",
   "execution_count": 34,
   "id": "307daeca-a3f8-4fe1-b3b4-30003f3ac5b7",
   "metadata": {},
   "outputs": [
    {
     "name": "stdin",
     "output_type": "stream",
     "text": [
      "Enter the first dictionary:  {'a': 1, 'b': 2}\n",
      "Enter the second dictionary:  {'b': 3, 'c': 4}\n"
     ]
    },
    {
     "name": "stdout",
     "output_type": "stream",
     "text": [
      "Merged dictionary: {'a': 1, 'b': 5, 'c': 4}\n"
     ]
    }
   ],
   "source": [
    "#32.Write a code that takes two dictionaries as input and merges them into a single dictionary. If there are common keys, the values should be added together.\n",
    "def merge_dicts(dict1, dict2):\n",
    "    merged_dict = dict1.copy()\n",
    "\n",
    "\n",
    "    for key, value in dict2.items():\n",
    "\n",
    "        if key in merged_dict:\n",
    "            merged_dict[key] += value\n",
    "\n",
    "        else:\n",
    "            merged_dict[key] = value\n",
    "\n",
    "\n",
    "    return merged_dict\n",
    "dict1 = eval(input(\"Enter the first dictionary: \"))\n",
    "dict2 = eval(input(\"Enter the second dictionary: \"))\n",
    "merged_dict = merge_dicts(dict1, dict2)\n",
    "print(\"Merged dictionary:\", merged_dict)"
   ]
  },
  {
   "cell_type": "code",
   "execution_count": 35,
   "id": "19f64dd2-c303-4e3e-ac03-934720882b0a",
   "metadata": {},
   "outputs": [
    {
     "name": "stdout",
     "output_type": "stream",
     "text": [
      "1\n",
      "None\n"
     ]
    }
   ],
   "source": [
    "#33.Write a code to access a value in a nested dictionary. The function should take the dictionary and a list of keys as input, and return the corresponding value. If any of the keys do not exist in the dictionary, the function should return None.\n",
    "def access_nested_dict(nested_dict, keys):\n",
    "    for key in keys:\n",
    "        if isinstance(nested_dict, dict) and key in nested_dict:\n",
    "            nested_dict = nested_dict[key]\n",
    "        else:\n",
    "            return None\n",
    "    return nested_dict\n",
    "\n",
    "\n",
    "nested_dict = {\n",
    "    'a': {\n",
    "        'b': {\n",
    "            'c': 1,\n",
    "            'd': 2\n",
    "        },\n",
    "        'e': 3\n",
    "    },\n",
    "    'f': 4\n",
    "}\n",
    "\n",
    "keys = ['a', 'b', 'c']\n",
    "print(access_nested_dict(nested_dict, keys))\n",
    "keys = ['a', 'b', 'g']\n",
    "print(access_nested_dict(nested_dict, keys))"
   ]
  },
  {
   "cell_type": "code",
   "execution_count": 36,
   "id": "40385922-360f-4ed4-ae68-d12d6422f8e9",
   "metadata": {},
   "outputs": [
    {
     "name": "stdout",
     "output_type": "stream",
     "text": [
      "{'date': 1, 'banana': 2, 'elderberry': 3, 'apple': 5, 'cherry': 8}\n"
     ]
    }
   ],
   "source": [
    "#34. Write a code that takes a dictionary as input and returns a sorted version of it based on the values. You can choose whether to sort in ascending or descending order.\n",
    "def sort_dict_by_value(input_dict):\n",
    "    return dict(sorted(input_dict.items(), key=lambda item: item[1]))\n",
    "\n",
    "input_dict = {\n",
    "    'apple': 5,\n",
    "    'banana': 2,\n",
    "    'cherry': 8,\n",
    "    'date': 1,\n",
    "    'elderberry': 3\n",
    "}\n",
    "sorted_dict = sort_dict_by_value(input_dict)\n",
    "print(sorted_dict)"
   ]
  },
  {
   "cell_type": "code",
   "execution_count": 37,
   "id": "12e0bb9d-442c-474a-aa6e-eb51a2c49476",
   "metadata": {},
   "outputs": [
    {
     "name": "stdout",
     "output_type": "stream",
     "text": [
      "{1: ['a', 'c'], 2: ['b', 'e'], 3: ['d']}\n"
     ]
    }
   ],
   "source": [
    "#35.Write a code that inverts a dictionary, swapping keys and values. Ensure that the inverted dictionary correctly handles cases where multiple keys have the same value by storing the keys as a list in the inverted dictionary\n",
    "def invert_dict(input_dict):\n",
    "    inverted_dict = {}\n",
    "    for key, value in input_dict.items():\n",
    "        inverted_dict.setdefault(value, []).append(key)\n",
    "    return inverted_dict\n",
    "\n",
    "input_dict = {\n",
    "    'a': 1,\n",
    "    'b': 2,\n",
    "    'c': 1,\n",
    "    'd': 3,\n",
    "    'e': 2\n",
    "}\n",
    "\n",
    "inverted_dict = invert_dict(input_dict)\n",
    "print(inverted_dict)"
   ]
  },
  {
   "cell_type": "code",
   "execution_count": null,
   "id": "d440aeb3-63d6-444e-9b3b-43250c3840b1",
   "metadata": {},
   "outputs": [],
   "source": []
  }
 ],
 "metadata": {
  "kernelspec": {
   "display_name": "Python 3 (ipykernel)",
   "language": "python",
   "name": "python3"
  },
  "language_info": {
   "codemirror_mode": {
    "name": "ipython",
    "version": 3
   },
   "file_extension": ".py",
   "mimetype": "text/x-python",
   "name": "python",
   "nbconvert_exporter": "python",
   "pygments_lexer": "ipython3",
   "version": "3.10.8"
  }
 },
 "nbformat": 4,
 "nbformat_minor": 5
}
